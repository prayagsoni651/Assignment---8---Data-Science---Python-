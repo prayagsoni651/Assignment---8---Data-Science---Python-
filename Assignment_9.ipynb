{
 "cells": [
  {
   "cell_type": "code",
   "execution_count": 3,
   "metadata": {},
   "outputs": [],
   "source": [
    "# 1. Is the Python Standard Library included with PyInputPlus?\n",
    "\n",
    "'''\n",
    "\n",
    "No, the Python Standard Library and PyInputPlus are separate entities.\n",
    "The Python Standard Library is a collection of modules and packages that \n",
    "come included with the Python programming language. These modules cover\n",
    "a wide range of functionalities, including file I/O, networking, data\n",
    "structures, regular expressions, and more. They are part of the standard \n",
    "distribution of Python and are available by default when you install Python.\n",
    "'''\n"
   ]
  },
  {
   "cell_type": "code",
   "execution_count": 4,
   "metadata": {},
   "outputs": [
    {
     "name": "stdout",
     "output_type": "stream",
     "text": [
      "Enter an integer: 'yvy' is not an integer.\n",
      "Enter an integer: 'jbj' is not an integer.\n",
      "Enter an integer: 'bub' is not an integer.\n",
      "Enter an integer: 'jjkb' is not an integer.\n",
      "Enter an integer: 'ghvjh' is not an integer.\n",
      "Enter an integer: 'vyhv' is not an integer.\n",
      "Enter an integer: 'jblkjb' is not an integer.\n",
      "Enter an integer: Blank values are not allowed.\n",
      "Enter an integer: Blank values are not allowed.\n",
      "Enter an integer: "
     ]
    }
   ],
   "source": [
    "# 2. Why is PyInputPlus commonly imported with import pyinputplus as pypi?\n",
    "\n",
    "\n",
    "'''\n",
    "The practice of importing PyInputPlus with the alias pypi (import\n",
    "pyinputplus as pypi) is a common convention used by developers to\n",
    "create a shorter and more convenient namespace when working with \n",
    "PyInputPlus in their code. Using an alias like pypi can make the \n",
    "code more concise and readable, especially if PyInputPlus is used\n",
    "frequently.\n",
    "'''\n",
    "\n",
    "import pyinputplus as pypi\n",
    "\n",
    "response = pypi.inputInt(prompt=\"Enter an integer: \")\n"
   ]
  },
  {
   "cell_type": "code",
   "execution_count": 5,
   "metadata": {},
   "outputs": [
    {
     "name": "stdout",
     "output_type": "stream",
     "text": [
      "Enter your age: You entered: 78\n",
      "Enter the temperature: You entered: 78.0\n"
     ]
    }
   ],
   "source": [
    "# 3. How do you distinguish between inputInt() and inputFloat()?\n",
    "\n",
    "'''\n",
    "\n",
    "In PyInputPlus, inputInt() and inputFloat() are two functions used for\n",
    "taking user input, specifically for integers and floating-point numbers\n",
    ", respectively.\n",
    "\n",
    "\n",
    "\n",
    "inputInt(prompt=None, default=None, limits=None):\n",
    " = This function is used to get an integer input from the user.\n",
    " = It validates that the entered value is a valid integer.\n",
    " = If the user enters a non-integer value, it prompts the user to enter \n",
    " a valid integer.\n",
    "\n",
    " = Example\n",
    "'''\n",
    "\n",
    "import pyinputplus as pypi\n",
    "\n",
    "age = pypi.inputInt(prompt=\"Enter your age: \")\n",
    "print(\"You entered:\", age)\n",
    "\n",
    "'''\n",
    "inputFloat(prompt=None, default=None, limits=None):\n",
    " = This function is used to get a floating-point number input from the user.\n",
    " = It validates that the entered value is a valid float.\n",
    " = If the user enters a non-float value, it prompts the user to enter a\n",
    "   valid float.\n",
    " = Example:\n",
    "\n",
    "'''\n",
    "\n",
    "import pyinputplus as pypi\n",
    "\n",
    "temperature = pypi.inputFloat(prompt=\"Enter the temperature: \")\n",
    "print(\"You entered:\", temperature)\n",
    "\n"
   ]
  },
  {
   "cell_type": "code",
   "execution_count": 7,
   "metadata": {},
   "outputs": [
    {
     "name": "stdout",
     "output_type": "stream",
     "text": [
      "Enter a whole number between 0 and 99: Number must be at maximum 99.\n",
      "Enter a whole number between 0 and 99: Number must be at minimum 0.\n",
      "Enter a whole number between 0 and 99: 'jhvjh' is not an integer.\n",
      "Enter a whole number between 0 and 99: 'hvuy7t8tjh' is not an integer.\n",
      "Enter a whole number between 0 and 99: '8t97uigjbk' is not an integer.\n",
      "Enter a whole number between 0 and 99: '89y9gulj' is not an integer.\n",
      "Enter a whole number between 0 and 99: '8yuij' is not an integer.\n",
      "Enter a whole number between 0 and 99: '7t8uyh' is not an integer.\n",
      "Enter a whole number between 0 and 99: '7yuvhvukj' is not an integer.\n",
      "Enter a whole number between 0 and 99: 'ugbhv' is not an integer.\n",
      "Enter a whole number between 0 and 99: 'vjhvj' is not an integer.\n",
      "Enter a whole number between 0 and 99: 'jblk' is not an integer.\n",
      "Enter a whole number between 0 and 99: You entered: 99\n"
     ]
    }
   ],
   "source": [
    "# 4. Using PyInputPlus, how do you ensure that the user enters a whole \n",
    "# number between 0 and 99?\n",
    "\n",
    "'''\n",
    "You can use the inputInt() function from PyInputPlus along with\n",
    "the min and max arguments to ensure that the user enters a whole \n",
    "number between 0 and 99. Here's an example:\n",
    "'''\n",
    "\n",
    "import pyinputplus as pypi\n",
    "\n",
    "# Get a whole number input between 0 and 99\n",
    "user_input = pypi.inputInt(prompt=\"Enter a whole number between 0 and 99: \", min=0, max=99)\n",
    "\n",
    "print(\"You entered:\", user_input)\n"
   ]
  },
  {
   "cell_type": "code",
   "execution_count": 10,
   "metadata": {},
   "outputs": [
    {
     "name": "stdout",
     "output_type": "stream",
     "text": [
      "Enter a string: Enter a string: This response is invalid.\n",
      "Enter a string: "
     ]
    }
   ],
   "source": [
    "# 5. What is transferred to the keyword arguments allowRegexes and blockRegexes?\n",
    "\n",
    "\n",
    "'''\n",
    "In PyInputPlus, the keyword arguments allowRegexes and blockRegexes\n",
    "are used to specify regular expressions that control which inputs \n",
    "are allowed and blocked, respectively. These regular expressions\n",
    "are used to match against the user's input.\n",
    "\n",
    "'''\n",
    "\n",
    "\n",
    "'''\n",
    "\n",
    "allowRegexes argument:\n",
    " = allowRegexes is a keyword argument that allows you to specify a \n",
    "   list of regular expressions. If the user's input matches any of the  \n",
    "   regular expressions in allowRegexes, it is considered a valid input.\n",
    "\n",
    " = Example\n",
    "'''\n",
    "\n",
    "import pyinputplus as pypi\n",
    "\n",
    "user_input = pypi.inputStr(prompt=\"Enter a string: \", allowRegexes=[r'\\d+', r'[a-z]+'])\n",
    "\n",
    "\n",
    "'''\n",
    "blockRegexes argument:\n",
    " = blockRegexes is a keyword argument that allows you to specify a list of \n",
    "   regular expressions. If the user's input matches any of the regular \n",
    "   expressions in blockRegexes, it is considered invalid, and the user \n",
    "   is prompted to enter a different value.\n",
    "\n",
    " = Example:\n",
    "\n",
    "'''\n",
    "\n",
    "import pyinputplus as pypi\n",
    "\n",
    "user_input = pypi.inputStr(prompt=\"Enter a string: \", blockRegexes=[r'\\d+', r'[!@#]'])\n"
   ]
  },
  {
   "cell_type": "code",
   "execution_count": 13,
   "metadata": {},
   "outputs": [
    {
     "name": "stdout",
     "output_type": "stream",
     "text": [
      "Enter a string: You entered: 656g\n"
     ]
    }
   ],
   "source": [
    "# 6. If a blank input is entered three times, what does inputStr(limit=3) do?\n",
    "\n",
    "\n",
    "'''\n",
    "If a blank input is entered three times, and you are using inputStr(limit=3) \n",
    "in PyInputPlus, the function will raise a TimeoutException. The limit parameter\n",
    "in this context specifies the maximum number of times the user is allowed to\n",
    "enter invalid input before the function raises a timeout exception.\n",
    "\n",
    "'''\n",
    "\n",
    "\n",
    "import pyinputplus as pypi\n",
    "\n",
    "try:\n",
    "    user_input = pypi.inputStr(prompt=\"Enter a string: \", limit=3)\n",
    "    print(\"You entered:\", user_input)\n",
    "except pypi.TimeoutException:\n",
    "    print(\"You exceeded the maximum number of attempts.\")\n"
   ]
  },
  {
   "cell_type": "code",
   "execution_count": null,
   "metadata": {},
   "outputs": [],
   "source": [
    "# 7. If blank input is entered three times, what does\n",
    "# inputStr(limit=3, default=&#39;hello;) do?\n",
    "\n",
    "'''\n",
    "If a blank input is entered three times, and you are using \n",
    "inputStr(limit=3, default='hello') in PyInputPlus, the function \n",
    "will not raise a TimeoutException. Instead, it will return the \n",
    "default value provided, which is 'hello\n",
    "\n",
    "'''\n",
    "\n",
    "import pyinputplus as pypi\n",
    "\n",
    "user_input = pypi.inputStr(prompt=\"Enter a string: \", limit=3, default='hello')\n",
    "print(\"You entered:\", user_input)\n"
   ]
  }
 ],
 "metadata": {
  "kernelspec": {
   "display_name": "base",
   "language": "python",
   "name": "python3"
  },
  "language_info": {
   "codemirror_mode": {
    "name": "ipython",
    "version": 3
   },
   "file_extension": ".py",
   "mimetype": "text/x-python",
   "name": "python",
   "nbconvert_exporter": "python",
   "pygments_lexer": "ipython3",
   "version": "3.11.4"
  }
 },
 "nbformat": 4,
 "nbformat_minor": 2
}
